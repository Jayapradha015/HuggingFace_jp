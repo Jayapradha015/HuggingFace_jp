{
 "cells": [
  {
   "cell_type": "markdown",
   "id": "56839967",
   "metadata": {},
   "source": [
    "# Sentimental Analysis using TextBlob and HuggingFace Transformers"
   ]
  },
  {
   "cell_type": "markdown",
   "id": "b7bd5e28",
   "metadata": {},
   "source": [
    "## Installing Transformers Libraries"
   ]
  },
  {
   "cell_type": "code",
   "execution_count": 1,
   "id": "8c6ef7cc",
   "metadata": {
    "scrolled": true
   },
   "outputs": [
    {
     "name": "stdout",
     "output_type": "stream",
     "text": [
      "Requirement already satisfied: transformers in f:\\anaconda3\\lib\\site-packages (4.30.2)\n",
      "Requirement already satisfied: safetensors>=0.3.1 in f:\\anaconda3\\lib\\site-packages (from transformers) (0.3.1)\n",
      "Requirement already satisfied: numpy>=1.17 in f:\\anaconda3\\lib\\site-packages (from transformers) (1.21.5)\n",
      "Requirement already satisfied: packaging>=20.0 in f:\\anaconda3\\lib\\site-packages (from transformers) (21.3)\n",
      "Requirement already satisfied: regex!=2019.12.17 in f:\\anaconda3\\lib\\site-packages (from transformers) (2022.7.9)\n",
      "Requirement already satisfied: pyyaml>=5.1 in f:\\anaconda3\\lib\\site-packages (from transformers) (6.0)\n",
      "Requirement already satisfied: tqdm>=4.27 in f:\\anaconda3\\lib\\site-packages (from transformers) (4.64.1)\n",
      "Requirement already satisfied: requests in f:\\anaconda3\\lib\\site-packages (from transformers) (2.28.1)\n",
      "Requirement already satisfied: huggingface-hub<1.0,>=0.14.1 in f:\\anaconda3\\lib\\site-packages (from transformers) (0.16.2)\n",
      "Requirement already satisfied: filelock in f:\\anaconda3\\lib\\site-packages (from transformers) (3.6.0)\n",
      "Requirement already satisfied: tokenizers!=0.11.3,<0.14,>=0.11.1 in f:\\anaconda3\\lib\\site-packages (from transformers) (0.13.3)\n",
      "Requirement already satisfied: fsspec in f:\\anaconda3\\lib\\site-packages (from huggingface-hub<1.0,>=0.14.1->transformers) (2022.7.1)\n",
      "Requirement already satisfied: typing-extensions>=3.7.4.3 in f:\\anaconda3\\lib\\site-packages (from huggingface-hub<1.0,>=0.14.1->transformers) (4.3.0)\n",
      "Requirement already satisfied: pyparsing!=3.0.5,>=2.0.2 in f:\\anaconda3\\lib\\site-packages (from packaging>=20.0->transformers) (3.0.9)\n",
      "Requirement already satisfied: colorama in f:\\anaconda3\\lib\\site-packages (from tqdm>=4.27->transformers) (0.4.5)\n",
      "Requirement already satisfied: charset-normalizer<3,>=2 in f:\\anaconda3\\lib\\site-packages (from requests->transformers) (2.0.4)\n",
      "Requirement already satisfied: idna<4,>=2.5 in f:\\anaconda3\\lib\\site-packages (from requests->transformers) (3.3)\n",
      "Requirement already satisfied: certifi>=2017.4.17 in f:\\anaconda3\\lib\\site-packages (from requests->transformers) (2022.9.14)\n",
      "Requirement already satisfied: urllib3<1.27,>=1.21.1 in f:\\anaconda3\\lib\\site-packages (from requests->transformers) (1.26.11)\n"
     ]
    }
   ],
   "source": [
    "!pip install transformers"
   ]
  },
  {
   "cell_type": "markdown",
   "id": "93830ed5",
   "metadata": {},
   "source": [
    "## Importing nesscessary libraries"
   ]
  },
  {
   "cell_type": "code",
   "execution_count": 38,
   "id": "3ab96bc3",
   "metadata": {},
   "outputs": [
    {
     "name": "stderr",
     "output_type": "stream",
     "text": [
      "[nltk_data] Downloading package punkt to\n",
      "[nltk_data]     C:\\Users\\Neheil\\AppData\\Roaming\\nltk_data...\n",
      "[nltk_data]   Package punkt is already up-to-date!\n",
      "[nltk_data] Downloading package stopwords to\n",
      "[nltk_data]     C:\\Users\\Neheil\\AppData\\Roaming\\nltk_data...\n",
      "[nltk_data]   Package stopwords is already up-to-date!\n",
      "[nltk_data] Downloading package wordnet to\n",
      "[nltk_data]     C:\\Users\\Neheil\\AppData\\Roaming\\nltk_data...\n",
      "[nltk_data]   Package wordnet is already up-to-date!\n",
      "[nltk_data] Downloading package averaged_perceptron_tagger to\n",
      "[nltk_data]     C:\\Users\\Neheil\\AppData\\Roaming\\nltk_data...\n",
      "[nltk_data]   Package averaged_perceptron_tagger is already up-to-\n",
      "[nltk_data]       date!\n"
     ]
    }
   ],
   "source": [
    "import numpy as np\n",
    "import pandas as pd\n",
    "import re\n",
    "import nltk\n",
    "import matplotlib.pyplot as plt\n",
    "nltk.download('punkt')\n",
    "nltk.download(\"stopwords\")\n",
    "nltk.download('wordnet')\n",
    "nltk.download('averaged_perceptron_tagger')\n",
    "from nltk.tokenize import word_tokenize\n",
    "from nltk.tokenize import RegexpTokenizer\n",
    "from nltk.corpus import stopwords\n",
    "stopwords=set(stopwords.words('english'))\n",
    "from nltk.stem.porter import PorterStemmer\n",
    "from nltk.stem import WordNetLemmatizer\n",
    "from nltk import pos_tag\n",
    "stemmer= PorterStemmer()\n",
    "lemmatizer = WordNetLemmatizer()\n",
    "from textblob import TextBlob\n",
    "from cleantext import clean\n",
    "from transformers import AutoTokenizer\n",
    "from transformers import AutoModelForSequenceClassification"
   ]
  },
  {
   "cell_type": "markdown",
   "id": "db29ac01",
   "metadata": {},
   "source": [
    "### Reading the dataset using pandas "
   ]
  },
  {
   "cell_type": "code",
   "execution_count": 39,
   "id": "dd9abc2d",
   "metadata": {},
   "outputs": [
    {
     "data": {
      "text/html": [
       "<div>\n",
       "<style scoped>\n",
       "    .dataframe tbody tr th:only-of-type {\n",
       "        vertical-align: middle;\n",
       "    }\n",
       "\n",
       "    .dataframe tbody tr th {\n",
       "        vertical-align: top;\n",
       "    }\n",
       "\n",
       "    .dataframe thead th {\n",
       "        text-align: right;\n",
       "    }\n",
       "</style>\n",
       "<table border=\"1\" class=\"dataframe\">\n",
       "  <thead>\n",
       "    <tr style=\"text-align: right;\">\n",
       "      <th></th>\n",
       "      <th>Unnamed: 0</th>\n",
       "      <th>Customer Name</th>\n",
       "      <th>Review Title</th>\n",
       "      <th>Rating</th>\n",
       "      <th>Reviews</th>\n",
       "    </tr>\n",
       "  </thead>\n",
       "  <tbody>\n",
       "    <tr>\n",
       "      <th>0</th>\n",
       "      <td>0</td>\n",
       "      <td>Ashutosh singh</td>\n",
       "      <td>Mast hai</td>\n",
       "      <td>5.0 out of 5 stars</td>\n",
       "      <td>I will surprise with the quick touch response</td>\n",
       "    </tr>\n",
       "    <tr>\n",
       "      <th>1</th>\n",
       "      <td>1</td>\n",
       "      <td>Swati</td>\n",
       "      <td>Perfect buy</td>\n",
       "      <td>5.0 out of 5 stars</td>\n",
       "      <td>Must buy earbuds loved the bass quality and ac...</td>\n",
       "    </tr>\n",
       "    <tr>\n",
       "      <th>2</th>\n",
       "      <td>2</td>\n",
       "      <td>Anuragkumar</td>\n",
       "      <td>Perfect partner for lone wolf.</td>\n",
       "      <td>5.0 out of 5 stars</td>\n",
       "      <td>It got very smooth touch contel experience. Th...</td>\n",
       "    </tr>\n",
       "    <tr>\n",
       "      <th>3</th>\n",
       "      <td>3</td>\n",
       "      <td>Ravindra</td>\n",
       "      <td>So good</td>\n",
       "      <td>5.0 out of 5 stars</td>\n",
       "      <td>Balanced sounds in your ears without the distr...</td>\n",
       "    </tr>\n",
       "    <tr>\n",
       "      <th>4</th>\n",
       "      <td>4</td>\n",
       "      <td>Shubham Singh</td>\n",
       "      <td>Worth buying</td>\n",
       "      <td>5.0 out of 5 stars</td>\n",
       "      <td>This is the best earbud I have ever purchased....</td>\n",
       "    </tr>\n",
       "  </tbody>\n",
       "</table>\n",
       "</div>"
      ],
      "text/plain": [
       "   Unnamed: 0   Customer Name                    Review Title  \\\n",
       "0           0  Ashutosh singh                        Mast hai   \n",
       "1           1           Swati                     Perfect buy   \n",
       "2           2     Anuragkumar  Perfect partner for lone wolf.   \n",
       "3           3       Ravindra                          So good   \n",
       "4           4   Shubham Singh                    Worth buying   \n",
       "\n",
       "               Rating                                            Reviews  \n",
       "0  5.0 out of 5 stars      I will surprise with the quick touch response  \n",
       "1  5.0 out of 5 stars  Must buy earbuds loved the bass quality and ac...  \n",
       "2  5.0 out of 5 stars  It got very smooth touch contel experience. Th...  \n",
       "3  5.0 out of 5 stars  Balanced sounds in your ears without the distr...  \n",
       "4  5.0 out of 5 stars  This is the best earbud I have ever purchased....  "
      ]
     },
     "execution_count": 39,
     "metadata": {},
     "output_type": "execute_result"
    }
   ],
   "source": [
    "df=pd.read_csv(\"Amazon_reviews.csv\")\n",
    "df.head(5)"
   ]
  },
  {
   "cell_type": "code",
   "execution_count": 4,
   "id": "b0bd0aab",
   "metadata": {},
   "outputs": [
    {
     "name": "stdout",
     "output_type": "stream",
     "text": [
      "<class 'pandas.core.frame.DataFrame'>\n",
      "RangeIndex: 149 entries, 0 to 148\n",
      "Data columns (total 5 columns):\n",
      " #   Column         Non-Null Count  Dtype \n",
      "---  ------         --------------  ----- \n",
      " 0   Unnamed: 0     149 non-null    int64 \n",
      " 1   Customer Name  149 non-null    object\n",
      " 2   Review Title   149 non-null    object\n",
      " 3   Rating         149 non-null    object\n",
      " 4   Reviews        145 non-null    object\n",
      "dtypes: int64(1), object(4)\n",
      "memory usage: 5.9+ KB\n"
     ]
    }
   ],
   "source": [
    "df.info()"
   ]
  },
  {
   "cell_type": "code",
   "execution_count": 5,
   "id": "0498ae0a",
   "metadata": {},
   "outputs": [
    {
     "data": {
      "text/plain": [
       "Index(['Unnamed: 0', 'Customer Name', 'Review Title', 'Rating', 'Reviews'], dtype='object')"
      ]
     },
     "execution_count": 5,
     "metadata": {},
     "output_type": "execute_result"
    }
   ],
   "source": [
    "df.columns"
   ]
  },
  {
   "cell_type": "code",
   "execution_count": 40,
   "id": "a5a06ae6",
   "metadata": {},
   "outputs": [],
   "source": [
    "df.drop([\"Unnamed: 0\"],axis=1,inplace=True)"
   ]
  },
  {
   "cell_type": "markdown",
   "id": "d6593fe3",
   "metadata": {},
   "source": [
    "### Cleaning the raw data using nltk\n",
    "### Convert it into cleaned Tokens"
   ]
  },
  {
   "cell_type": "code",
   "execution_count": 41,
   "id": "6b565c1a",
   "metadata": {},
   "outputs": [],
   "source": [
    "clean_reviews=[]\n",
    "for index in df.index:\n",
    "    review1=df.loc[index][\"Reviews\"]\n",
    "    # cleaning the emoji \n",
    "    review=clean(review1, no_emoji=True)\n",
    "    pattern=r'[0 - 9]'\n",
    "    reviews=re.sub(pattern,\" \",review)\n",
    "    # lowering the case\n",
    "    reviews=reviews.lower()\n",
    "    reviews=str(TextBlob(reviews).correct())\n",
    "    tokens=RegexpTokenizer(r'\\w+').tokenize(reviews)\n",
    "    # removing the stopwords from the tokens\n",
    "    cleaned_tokens=[token for token in tokens if token not in stopwords]\n",
    "    # joining the cleaned tokens\n",
    "    clean_data=\" \".join(cleaned_tokens)\n",
    "    clean_reviews.append(clean_data)\n"
   ]
  },
  {
   "cell_type": "markdown",
   "id": "b288c821",
   "metadata": {},
   "source": [
    "### Using the textblob analysis the sentiment of the review"
   ]
  },
  {
   "cell_type": "code",
   "execution_count": 60,
   "id": "da0918e9",
   "metadata": {},
   "outputs": [],
   "source": [
    "def blob_sentiment(clean_reviews):\n",
    "    sentiment=[]\n",
    "    for review in clean_reviews:\n",
    "        analysis=TextBlob(review)\n",
    "        if analysis.sentiment.polarity>0:\n",
    "            sentiment.append('positve')\n",
    "        elif analysis.sentiment.polarity==0:\n",
    "            sentiment.append('neutral')\n",
    "        else:\n",
    "            sentiment.append('negetive')\n",
    "    return sentiment      "
   ]
  },
  {
   "cell_type": "markdown",
   "id": "4d5d4fd5",
   "metadata": {},
   "source": [
    "### Create a Column in the dataframe for the Textblob sentiments"
   ]
  },
  {
   "cell_type": "code",
   "execution_count": 43,
   "id": "44850075",
   "metadata": {},
   "outputs": [
    {
     "data": {
      "text/html": [
       "<div>\n",
       "<style scoped>\n",
       "    .dataframe tbody tr th:only-of-type {\n",
       "        vertical-align: middle;\n",
       "    }\n",
       "\n",
       "    .dataframe tbody tr th {\n",
       "        vertical-align: top;\n",
       "    }\n",
       "\n",
       "    .dataframe thead th {\n",
       "        text-align: right;\n",
       "    }\n",
       "</style>\n",
       "<table border=\"1\" class=\"dataframe\">\n",
       "  <thead>\n",
       "    <tr style=\"text-align: right;\">\n",
       "      <th></th>\n",
       "      <th>index</th>\n",
       "      <th>Blob_Sentiment</th>\n",
       "    </tr>\n",
       "  </thead>\n",
       "  <tbody>\n",
       "    <tr>\n",
       "      <th>0</th>\n",
       "      <td>positve</td>\n",
       "      <td>106</td>\n",
       "    </tr>\n",
       "    <tr>\n",
       "      <th>1</th>\n",
       "      <td>neutral</td>\n",
       "      <td>27</td>\n",
       "    </tr>\n",
       "    <tr>\n",
       "      <th>2</th>\n",
       "      <td>negetive</td>\n",
       "      <td>16</td>\n",
       "    </tr>\n",
       "  </tbody>\n",
       "</table>\n",
       "</div>"
      ],
      "text/plain": [
       "      index  Blob_Sentiment\n",
       "0   positve             106\n",
       "1   neutral              27\n",
       "2  negetive              16"
      ]
     },
     "execution_count": 43,
     "metadata": {},
     "output_type": "execute_result"
    }
   ],
   "source": [
    "# finding the value counts of each category of analysis\n",
    "df_senti=df[\"Blob_Sentiment\"].value_counts().reset_index()\n",
    "df_senti"
   ]
  },
  {
   "cell_type": "code",
   "execution_count": 44,
   "id": "149c640f",
   "metadata": {},
   "outputs": [
    {
     "data": {
      "image/png": "[encoded data removed]",
      "text/plain": [
       "<Figure size 640x480 with 1 Axes>"
      ]
     },
     "metadata": {},
     "output_type": "display_data"
    }
   ],
   "source": [
    "# ploting the value count of analysis\n",
    "myexplode=[0.1,0,0]\n",
    "plt.pie(df_senti[\"Blob_Sentiment\"],labels=df_senti[\"index\"],startangle = 90,explode=myexplode,shadow=True,autopct='%1.2f%%')\n",
    "plt.show()"
   ]
  },
  {
   "cell_type": "markdown",
   "id": "0a2a5bbd",
   "metadata": {},
   "source": [
    "## Analysis the sentiment using the Roberta Pretrained model"
   ]
  },
  {
   "cell_type": "code",
   "execution_count": 45,
   "id": "6fb698da",
   "metadata": {},
   "outputs": [],
   "source": [
    "# giving the model name from huggingface transformers\n",
    "# autotokenizer for the roberta model\n",
    "MODEL = f\"cardiffnlp/twitter-roberta-base-sentiment\"\n",
    "tokenizer = AutoTokenizer.from_pretrained(MODEL)\n",
    "model = AutoModelForSequenceClassification.from_pretrained(MODEL)"
   ]
  },
  {
   "cell_type": "code",
   "execution_count": 47,
   "id": "5979070e",
   "metadata": {},
   "outputs": [],
   "source": [
    "# Process of converting cleaned tokens into the roberta probability score\n",
    "def rob_sentiment(clean_reviews):\n",
    "    scores=[]\n",
    "    for review in clean_reviews:\n",
    "        encoded_text = tokenizer(review, return_tensors='pt')\n",
    "        output = model(**encoded_text)\n",
    "        # deatching it from tensor\n",
    "        score = output[0][0].detach().numpy()\n",
    "        scores.append(score)\n",
    "    return scores    "
   ]
  },
  {
   "cell_type": "code",
   "execution_count": 50,
   "id": "3065298c",
   "metadata": {},
   "outputs": [
    {
     "data": {
      "text/plain": [
       "[[-2.670201539993286, 0.7632378339767456, 2.340700149536133],\n",
       " [-2.32844877243042, 0.47861433029174805, 1.8765536546707153],\n",
       " [-2.5256776809692383, 0.5489840507507324, 2.1396636962890625],\n",
       " [-0.9885949492454529, 1.3422703742980957, -0.5451588034629822],\n",
       " [-2.461487054824829, 0.39404070377349854, 2.5211920738220215],\n",
       " [-1.496423363685608, 0.3278645873069763, 1.5011248588562012],\n",
       " [-1.247981309890747, 0.5213854312896729, 1.248578667640686],\n",
       " [-2.413992166519165, 0.8698167204856873, 1.7426934242248535],\n",
       " [-1.8588850498199463, -0.2138568013906479, 2.514008045196533],\n",
       " [-2.0110859870910645, 2.0918946266174316, -0.05841407924890518],\n",
       " [0.7083339095115662, 0.9479519128799438, -1.8121062517166138],\n",
       " [-2.3994369506835938, -0.3635956645011902, 3.3572800159454346],\n",
       " [-0.4700584411621094, 1.0784869194030762, -0.40821129083633423],\n",
       " [1.4907574653625488, 0.3870276212692261, -2.0583715438842773],\n",
       " [-2.0088088512420654, -0.1643747240304947, 2.578054904937744],\n",
       " [-2.084033489227295, -0.05386190116405487, 2.595527410507202],\n",
       " [0.960723340511322, 0.566781222820282, -1.343468427658081],\n",
       " [-2.119729995727539, -0.5315717458724976, 3.3053531646728516],\n",
       " [-2.1364078521728516, 0.12097524106502533, 2.4528555870056152],\n",
       " [0.09390552341938019, 0.789135754108429, -0.8026681542396545],\n",
       " [-0.19743627309799194, 0.5934552550315857, -0.22793051600456238],\n",
       " [-0.19743627309799194, 0.5934552550315857, -0.22793051600456238],\n",
       " [2.582653045654297, 0.06438972055912018, -2.627187490463257],\n",
       " [-0.026415888220071793, 1.0214296579360962, -1.2448152303695679],\n",
       " [-0.915837824344635, 0.6271563768386841, 0.5995110869407654],\n",
       " [-1.7244470119476318, 1.0700178146362305, 0.9940606355667114],\n",
       " [-0.42675596475601196, 1.0669455528259277, -0.7936286926269531],\n",
       " [-2.7136669158935547, 0.9960653781890869, 1.982728362083435],\n",
       " [-0.990611732006073, 0.98818039894104, 0.01304740458726883],\n",
       " [-1.5524327754974365, 0.8118377327919006, 0.8196918368339539],\n",
       " [-1.7514514923095703, 0.5525127649307251, 1.4092799425125122],\n",
       " [-2.2644786834716797, 0.44815945625305176, 1.9718456268310547],\n",
       " [0.6603477597236633, 0.15879739820957184, -0.8020390868186951],\n",
       " [-0.4333512783050537, 0.8280300498008728, -0.2075347900390625],\n",
       " [-2.217315673828125, 1.0064046382904053, 1.2259806394577026],\n",
       " [1.5229896306991577, 0.6238779425621033, -2.2366857528686523],\n",
       " [0.747517466545105, 1.3250213861465454, -2.1443655490875244],\n",
       " [-1.8022494316101074, 1.1586170196533203, 0.7579785585403442],\n",
       " [-0.55548495054245, 0.09111374616622925, 0.6497953534126282],\n",
       " [1.5753364562988281, 0.3698413372039795, -2.1212635040283203],\n",
       " [1.574842929840088, 0.1717342734336853, -1.9012874364852905],\n",
       " [0.21851295232772827, 1.2971258163452148, -1.4688438177108765],\n",
       " [-0.2675936222076416, 0.18273340165615082, 0.24342167377471924],\n",
       " [3.0416831970214844, -0.22998110949993134, -2.705777168273926],\n",
       " [-0.6312747597694397, 0.7025012373924255, -0.0692228451371193],\n",
       " [0.03042561188340187, 1.0343915224075317, -0.9138747453689575],\n",
       " [2.9027557373046875, -0.301740825176239, -2.3924636840820312],\n",
       " [2.635918617248535, -0.07691866159439087, -2.4802699089050293],\n",
       " [1.1958708763122559, 0.6220552325248718, -1.8433270454406738],\n",
       " [2.4628138542175293, 0.19487200677394867, -2.69277286529541],\n",
       " [-2.670201539993286, 0.7632378339767456, 2.340700149536133],\n",
       " [-2.32844877243042, 0.47861433029174805, 1.8765536546707153],\n",
       " [-2.5256776809692383, 0.5489840507507324, 2.1396636962890625],\n",
       " [-0.9885949492454529, 1.3422703742980957, -0.5451588034629822],\n",
       " [-2.461487054824829, 0.39404070377349854, 2.5211920738220215],\n",
       " [-1.496423363685608, 0.3278645873069763, 1.5011248588562012],\n",
       " [-1.247981309890747, 0.5213854312896729, 1.248578667640686],\n",
       " [-2.413992166519165, 0.8698167204856873, 1.7426934242248535],\n",
       " [-1.8588850498199463, -0.2138568013906479, 2.514008045196533],\n",
       " [-2.0110859870910645, 2.0918946266174316, -0.05841407924890518],\n",
       " [-2.822755813598633, 0.38289982080459595, 2.6414966583251953],\n",
       " [-2.2520179748535156, 0.11833323538303375, 2.8730525970458984],\n",
       " [-2.5344409942626953, 0.09165206551551819, 2.920654058456421],\n",
       " [-2.376772165298462, -0.16326580941677094, 2.9864697456359863],\n",
       " [-1.3831408023834229, 0.23863737285137177, 1.272788166999817],\n",
       " [-2.4842641353607178, -0.2515724301338196, 3.4023661613464355],\n",
       " [-2.410149097442627, -0.5159273147583008, 3.6846017837524414],\n",
       " [-2.6429598331451416, -0.14073307812213898, 3.396328926086426],\n",
       " [-1.5768569707870483, 0.8066046237945557, 0.553108274936676],\n",
       " [-2.1375632286071777, -0.33838802576065063, 3.07035756111145],\n",
       " [-2.3533225059509277, 0.107050821185112, 2.8976340293884277],\n",
       " [-1.5830862522125244, 0.1923418939113617, 2.054130792617798],\n",
       " [-2.5450539588928223, -0.11250825226306915, 3.2520508766174316],\n",
       " [-0.9169756770133972, 0.047451041638851166, 1.1615126132965088],\n",
       " [-1.5789010524749756, 0.8811944723129272, 1.0600179433822632],\n",
       " [-2.5092039108276367, -0.2070392221212387, 3.2202329635620117],\n",
       " [-2.3144266605377197, 0.8347551226615906, 1.5596702098846436],\n",
       " [-2.3409247398376465, 0.19267620146274567, 2.3159854412078857],\n",
       " [-2.4477148056030273, 0.6915729641914368, 2.029418468475342],\n",
       " [-2.354710102081299, 0.4597141146659851, 2.1988208293914795],\n",
       " [2.236111879348755, 0.39874303340911865, -2.656076192855835],\n",
       " [-2.379047393798828, -0.4530128240585327, 3.448767900466919],\n",
       " [-2.162013530731201, 0.18112395703792572, 2.397158622741699],\n",
       " [-0.8578200936317444, 1.450991153717041, -0.7239368557929993],\n",
       " [0.7221713662147522, 0.7654857635498047, -1.582614541053772],\n",
       " [2.336160659790039, -0.0010529309511184692, -2.3394713401794434],\n",
       " [-1.2564854621887207, 0.7668850421905518, 0.7745351791381836],\n",
       " [-1.70046865940094, 1.2832847833633423, 0.2638070583343506],\n",
       " [-1.7015631198883057, 0.4237191677093506, 1.8006037473678589],\n",
       " [-1.9659838676452637, 0.4235691428184509, 1.899422287940979],\n",
       " [-2.3541598320007324, 0.535198450088501, 1.9289387464523315],\n",
       " [-2.0178840160369873, 0.26459985971450806, 2.298783302307129],\n",
       " [-2.4501829147338867, -0.41185444593429565, 3.6356945037841797],\n",
       " [-2.6217031478881836, -0.15476463735103607, 3.3244237899780273],\n",
       " [-0.3764263987541199, 0.65390944480896, -0.1840258240699768],\n",
       " [1.2077473402023315, 0.6206912398338318, -1.7473509311676025],\n",
       " [-2.485197067260742, 0.07457605749368668, 2.638780117034912],\n",
       " [2.862863063812256, -0.05416886508464813, -2.8490328788757324],\n",
       " [-0.8026165962219238, 0.24737204611301422, 0.662712812423706],\n",
       " [-2.670201539993286, 0.7632378339767456, 2.340700149536133],\n",
       " [-2.32844877243042, 0.47861433029174805, 1.8765536546707153],\n",
       " [-2.5256776809692383, 0.5489840507507324, 2.1396636962890625],\n",
       " [-0.9885949492454529, 1.3422703742980957, -0.5451588034629822],\n",
       " [-2.461487054824829, 0.39404070377349854, 2.5211920738220215],\n",
       " [-1.496423363685608, 0.3278645873069763, 1.5011248588562012],\n",
       " [-1.247981309890747, 0.5213854312896729, 1.248578667640686],\n",
       " [-2.413992166519165, 0.8698167204856873, 1.7426934242248535],\n",
       " [-1.8588850498199463, -0.2138568013906479, 2.514008045196533],\n",
       " [-2.0110859870910645, 2.0918946266174316, -0.05841407924890518],\n",
       " [0.7083339095115662, 0.9479519128799438, -1.8121062517166138],\n",
       " [-2.3994369506835938, -0.3635956645011902, 3.3572800159454346],\n",
       " [-0.4700584411621094, 1.0784869194030762, -0.40821129083633423],\n",
       " [1.4907574653625488, 0.3870276212692261, -2.0583715438842773],\n",
       " [-2.0088088512420654, -0.1643747240304947, 2.578054904937744],\n",
       " [-2.084033489227295, -0.05386190116405487, 2.595527410507202],\n",
       " [0.960723340511322, 0.566781222820282, -1.343468427658081],\n",
       " [-2.119729995727539, -0.5315717458724976, 3.3053531646728516],\n",
       " [-2.1364078521728516, 0.12097524106502533, 2.4528555870056152],\n",
       " [0.09390552341938019, 0.789135754108429, -0.8026681542396545],\n",
       " [-0.19743627309799194, 0.5934552550315857, -0.22793051600456238],\n",
       " [-0.19743627309799194, 0.5934552550315857, -0.22793051600456238],\n",
       " [2.582653045654297, 0.06438972055912018, -2.627187490463257],\n",
       " [-0.026415888220071793, 1.0214296579360962, -1.2448152303695679],\n",
       " [-0.915837824344635, 0.6271563768386841, 0.5995110869407654],\n",
       " [-1.7244470119476318, 1.0700178146362305, 0.9940606355667114],\n",
       " [-0.42675596475601196, 1.0669455528259277, -0.7936286926269531],\n",
       " [-2.7136669158935547, 0.9960653781890869, 1.982728362083435],\n",
       " [-0.990611732006073, 0.98818039894104, 0.01304740458726883],\n",
       " [-1.5524327754974365, 0.8118377327919006, 0.8196918368339539],\n",
       " [-1.7514514923095703, 0.5525127649307251, 1.4092799425125122],\n",
       " [-2.2644786834716797, 0.44815945625305176, 1.9718456268310547],\n",
       " [0.6603477597236633, 0.15879739820957184, -0.8020390868186951],\n",
       " [-0.4333512783050537, 0.8280300498008728, -0.2075347900390625],\n",
       " [-2.217315673828125, 1.0064046382904053, 1.2259806394577026],\n",
       " [1.5229896306991577, 0.6238779425621033, -2.2366857528686523],\n",
       " [0.747517466545105, 1.3250213861465454, -2.1443655490875244],\n",
       " [-1.8022494316101074, 1.1586170196533203, 0.7579785585403442],\n",
       " [-0.55548495054245, 0.09111374616622925, 0.6497953534126282],\n",
       " [1.5753364562988281, 0.3698413372039795, -2.1212635040283203],\n",
       " [1.574842929840088, 0.1717342734336853, -1.9012874364852905],\n",
       " [0.21851295232772827, 1.2971258163452148, -1.4688438177108765],\n",
       " [-0.2675936222076416, 0.18273340165615082, 0.24342167377471924],\n",
       " [3.0416831970214844, -0.22998110949993134, -2.705777168273926],\n",
       " [-0.6312747597694397, 0.7025012373924255, -0.0692228451371193],\n",
       " [0.03042561188340187, 1.0343915224075317, -0.9138747453689575],\n",
       " [2.9027557373046875, -0.301740825176239, -2.3924636840820312],\n",
       " [2.635918617248535, -0.07691866159439087, -2.4802699089050293],\n",
       " [1.1958708763122559, 0.6220552325248718, -1.8433270454406738],\n",
       " [2.4628138542175293, 0.19487200677394867, -2.69277286529541]]"
      ]
     },
     "execution_count": 50,
     "metadata": {},
     "output_type": "execute_result"
    }
   ],
   "source": [
    "# Converting the numpy array into List\n",
    "arr_score = rob_sentiment(clean_reviews)\n",
    "scores = [array.tolist() for array in arr_score]\n",
    "scores"
   ]
  },
  {
   "cell_type": "code",
   "execution_count": 51,
   "id": "f3111ce2",
   "metadata": {},
   "outputs": [],
   "source": [
    "# Converting the list of probality of the sentiment to Roberta sentiment list\n",
    "sentiments = ['Negative', 'Neutral', 'Positive']\n",
    "\n",
    "predicted_sentiments = []\n",
    "\n",
    "for score in scores:\n",
    "    max_score_index = score.index(max(score))\n",
    "    predicted_sentiment = sentiments[max_score_index]\n",
    "    predicted_sentiments.append(predicted_sentiment)"
   ]
  },
  {
   "cell_type": "markdown",
   "id": "fdd8ddac",
   "metadata": {},
   "source": [
    "### Dataframe containing both the TextBlob and Roberta model sentiment for the review"
   ]
  },
  {
   "cell_type": "code",
   "execution_count": 52,
   "id": "cd472846",
   "metadata": {},
   "outputs": [
    {
     "data": {
      "text/html": [
       "<div>\n",
       "<style scoped>\n",
       "    .dataframe tbody tr th:only-of-type {\n",
       "        vertical-align: middle;\n",
       "    }\n",
       "\n",
       "    .dataframe tbody tr th {\n",
       "        vertical-align: top;\n",
       "    }\n",
       "\n",
       "    .dataframe thead th {\n",
       "        text-align: right;\n",
       "    }\n",
       "</style>\n",
       "<table border=\"1\" class=\"dataframe\">\n",
       "  <thead>\n",
       "    <tr style=\"text-align: right;\">\n",
       "      <th></th>\n",
       "      <th>Customer Name</th>\n",
       "      <th>Review Title</th>\n",
       "      <th>Rating</th>\n",
       "      <th>Reviews</th>\n",
       "      <th>Blob_Sentiment</th>\n",
       "      <th>Roberta_Sentiment</th>\n",
       "    </tr>\n",
       "  </thead>\n",
       "  <tbody>\n",
       "    <tr>\n",
       "      <th>0</th>\n",
       "      <td>Ashutosh singh</td>\n",
       "      <td>Mast hai</td>\n",
       "      <td>5.0 out of 5 stars</td>\n",
       "      <td>I will surprise with the quick touch response</td>\n",
       "      <td>positve</td>\n",
       "      <td>Positive</td>\n",
       "    </tr>\n",
       "    <tr>\n",
       "      <th>1</th>\n",
       "      <td>Swati</td>\n",
       "      <td>Perfect buy</td>\n",
       "      <td>5.0 out of 5 stars</td>\n",
       "      <td>Must buy earbuds loved the bass quality and ac...</td>\n",
       "      <td>positve</td>\n",
       "      <td>Positive</td>\n",
       "    </tr>\n",
       "    <tr>\n",
       "      <th>2</th>\n",
       "      <td>Anuragkumar</td>\n",
       "      <td>Perfect partner for lone wolf.</td>\n",
       "      <td>5.0 out of 5 stars</td>\n",
       "      <td>It got very smooth touch contel experience. Th...</td>\n",
       "      <td>positve</td>\n",
       "      <td>Positive</td>\n",
       "    </tr>\n",
       "    <tr>\n",
       "      <th>3</th>\n",
       "      <td>Ravindra</td>\n",
       "      <td>So good</td>\n",
       "      <td>5.0 out of 5 stars</td>\n",
       "      <td>Balanced sounds in your ears without the distr...</td>\n",
       "      <td>neutral</td>\n",
       "      <td>Neutral</td>\n",
       "    </tr>\n",
       "    <tr>\n",
       "      <th>4</th>\n",
       "      <td>Shubham Singh</td>\n",
       "      <td>Worth buying</td>\n",
       "      <td>5.0 out of 5 stars</td>\n",
       "      <td>This is the best earbud I have ever purchased....</td>\n",
       "      <td>positve</td>\n",
       "      <td>Positive</td>\n",
       "    </tr>\n",
       "  </tbody>\n",
       "</table>\n",
       "</div>"
      ],
      "text/plain": [
       "    Customer Name                    Review Title              Rating  \\\n",
       "0  Ashutosh singh                        Mast hai  5.0 out of 5 stars   \n",
       "1           Swati                     Perfect buy  5.0 out of 5 stars   \n",
       "2     Anuragkumar  Perfect partner for lone wolf.  5.0 out of 5 stars   \n",
       "3       Ravindra                          So good  5.0 out of 5 stars   \n",
       "4   Shubham Singh                    Worth buying  5.0 out of 5 stars   \n",
       "\n",
       "                                             Reviews Blob_Sentiment  \\\n",
       "0      I will surprise with the quick touch response        positve   \n",
       "1  Must buy earbuds loved the bass quality and ac...        positve   \n",
       "2  It got very smooth touch contel experience. Th...        positve   \n",
       "3  Balanced sounds in your ears without the distr...        neutral   \n",
       "4  This is the best earbud I have ever purchased....        positve   \n",
       "\n",
       "  Roberta_Sentiment  \n",
       "0          Positive  \n",
       "1          Positive  \n",
       "2          Positive  \n",
       "3           Neutral  \n",
       "4          Positive  "
      ]
     },
     "execution_count": 52,
     "metadata": {},
     "output_type": "execute_result"
    }
   ],
   "source": [
    "# creating the column in the dataframe for Roberta model sentiment\n",
    "df[\"Roberta_Sentiment\"] = predicted_sentiments\n",
    "df.head(5)"
   ]
  },
  {
   "cell_type": "code",
   "execution_count": 53,
   "id": "e789995a",
   "metadata": {},
   "outputs": [
    {
     "data": {
      "text/html": [
       "<div>\n",
       "<style scoped>\n",
       "    .dataframe tbody tr th:only-of-type {\n",
       "        vertical-align: middle;\n",
       "    }\n",
       "\n",
       "    .dataframe tbody tr th {\n",
       "        vertical-align: top;\n",
       "    }\n",
       "\n",
       "    .dataframe thead th {\n",
       "        text-align: right;\n",
       "    }\n",
       "</style>\n",
       "<table border=\"1\" class=\"dataframe\">\n",
       "  <thead>\n",
       "    <tr style=\"text-align: right;\">\n",
       "      <th></th>\n",
       "      <th>index</th>\n",
       "      <th>Roberta_Sentiment</th>\n",
       "    </tr>\n",
       "  </thead>\n",
       "  <tbody>\n",
       "    <tr>\n",
       "      <th>0</th>\n",
       "      <td>Positive</td>\n",
       "      <td>78</td>\n",
       "    </tr>\n",
       "    <tr>\n",
       "      <th>1</th>\n",
       "      <td>Neutral</td>\n",
       "      <td>43</td>\n",
       "    </tr>\n",
       "    <tr>\n",
       "      <th>2</th>\n",
       "      <td>Negative</td>\n",
       "      <td>28</td>\n",
       "    </tr>\n",
       "  </tbody>\n",
       "</table>\n",
       "</div>"
      ],
      "text/plain": [
       "      index  Roberta_Sentiment\n",
       "0  Positive                 78\n",
       "1   Neutral                 43\n",
       "2  Negative                 28"
      ]
     },
     "execution_count": 53,
     "metadata": {},
     "output_type": "execute_result"
    }
   ],
   "source": [
    "# finding the value counts of each category of analysis\n",
    "df_senti1=df[\"Roberta_Sentiment\"].value_counts().reset_index()\n",
    "df_senti1"
   ]
  },
  {
   "cell_type": "code",
   "execution_count": 54,
   "id": "fd8dd9dd",
   "metadata": {},
   "outputs": [
    {
     "data": {
      "image/png": "[encoded data removed]",
      "text/plain": [
       "<Figure size 640x480 with 1 Axes>"
      ]
     },
     "metadata": {},
     "output_type": "display_data"
    }
   ],
   "source": [
    "# ploting the value count of analysis\n",
    "myexplode=[0.1,0,0]\n",
    "plt.pie(df_senti1[\"Roberta_Sentiment\"],labels=df_senti1[\"index\"],startangle = 90,explode=myexplode,shadow=True,autopct='%1.2f%%')\n",
    "plt.show()"
   ]
  },
  {
   "cell_type": "markdown",
   "id": "e2238b04",
   "metadata": {},
   "source": [
    "## Comparing the sentiment in both the TextBlob and Roberta"
   ]
  },
  {
   "cell_type": "code",
   "execution_count": 62,
   "id": "aeb69a63",
   "metadata": {},
   "outputs": [
    {
     "data": {
      "text/plain": [
       "\"The touch and other functions are fine but the sound quality is just bad, reason why I'm returning the product.\""
      ]
     },
     "execution_count": 62,
     "metadata": {},
     "output_type": "execute_result"
    }
   ],
   "source": [
    "# Example 1\n",
    "df[\"Reviews\"][16]"
   ]
  },
  {
   "cell_type": "code",
   "execution_count": 72,
   "id": "7440c547",
   "metadata": {},
   "outputs": [
    {
     "name": "stdout",
     "output_type": "stream",
     "text": [
      "Sentiment of TextBlob: positve\n",
      "Sentiment of Roberta: Negative\n"
     ]
    }
   ],
   "source": [
    "Text = df[\"Blob_Sentiment\"][16]\n",
    "rob = df[\"Roberta_Sentiment\"][16]\n",
    "print(f\"Sentiment of TextBlob: {Text}\")\n",
    "print(f\"Sentiment of Roberta: {rob}\")"
   ]
  },
  {
   "cell_type": "markdown",
   "id": "961c1ce8",
   "metadata": {},
   "source": [
    "### As we see for the above sentence TextBlob give the sentiment as Positive\n",
    "### But the Roberta Pretrained model gives Negative"
   ]
  },
  {
   "cell_type": "code",
   "execution_count": 65,
   "id": "939746d4",
   "metadata": {},
   "outputs": [
    {
     "data": {
      "text/plain": [
       "\"In Charging box the left charging point doesn't working and the right side air pods discharging soon.so make any other choice\""
      ]
     },
     "execution_count": 65,
     "metadata": {},
     "output_type": "execute_result"
    }
   ],
   "source": [
    "# Example 2\n",
    "df[\"Reviews\"][9]"
   ]
  },
  {
   "cell_type": "code",
   "execution_count": 74,
   "id": "7a9c0ed7",
   "metadata": {
    "scrolled": true
   },
   "outputs": [
    {
     "name": "stdout",
     "output_type": "stream",
     "text": [
      "Sentiment of TextBlob: positve\n",
      "Sentiment of Roberta: Neutral\n"
     ]
    }
   ],
   "source": [
    "Text1 = df[\"Blob_Sentiment\"][9]\n",
    "rob1 = df[\"Roberta_Sentiment\"][9]\n",
    "print(f\"Sentiment of TextBlob: {Text1}\")\n",
    "print(f\"Sentiment of Roberta: {rob1}\")"
   ]
  },
  {
   "cell_type": "markdown",
   "id": "87dc48e4",
   "metadata": {},
   "source": [
    "### Here the TextBlob model gives Positive\n",
    "### But Roberta Pretrained model gives Neutral"
   ]
  },
  {
   "cell_type": "markdown",
   "id": "cb38ea7f",
   "metadata": {},
   "source": [
    "### AS we see the value counts of the TextBlob and Roberta both are different\n",
    "### These difference are all because of Roberta model not only see the word but also see the context in which that word occur\n"
   ]
  },
  {
   "cell_type": "code",
   "execution_count": null,
   "id": "bf23c2c2",
   "metadata": {},
   "outputs": [],
   "source": []
  }
 ],
 "metadata": {
  "kernelspec": {
   "display_name": "Python 3 (ipykernel)",
   "language": "python",
   "name": "python3"
  },
  "language_info": {
   "codemirror_mode": {
    "name": "ipython",
    "version": 3
   },
   "file_extension": ".py",
   "mimetype": "text/x-python",
   "name": "python",
   "nbconvert_exporter": "python",
   "pygments_lexer": "ipython3",
   "version": "3.9.13"
  }
 },
 "nbformat": 4,
 "nbformat_minor": 5
}
